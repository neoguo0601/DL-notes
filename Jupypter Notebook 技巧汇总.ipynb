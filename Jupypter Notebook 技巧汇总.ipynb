{
 "cells": [
  {
   "cell_type": "markdown",
   "metadata": {},
   "source": [
    "# <span id=\"0\"></span> **Jupypter Notebook 技巧汇总**\n",
    "\n",
    "[**源自 fast.ai v3 2019课程中文笔记**](https://forums.fast.ai/t/fast-ai-v3-2019/39325)，[**获取更多课程Notebooks的中文版**](https://forums.fast.ai/t/fast-ai-v3-2019-notebook-kaggle-kernel/39722)\n",
    "<hr/>\n",
    "\n",
    "1. [为什么Jupyter Notebook](#1)\n",
    "1. [最常用技能](#2)\n",
    "1. [探秘函数](#3)\n",
    "1. [三行代码](#4)\n",
    "1. [在Nb之间复制粘贴](#nbcp)\n",
    "1. [代码计时](#5)\n",
    "1. [代码找错](#6)\n"
   ]
  },
  {
   "cell_type": "markdown",
   "metadata": {},
   "source": [
    "#  <span id=\"1\"></span> 为什么Jupyter Notebook"
   ]
  },
  {
   "cell_type": "markdown",
   "metadata": {},
   "source": [
    "本notebook的目的是教会大家如何高效使用Jupyter Notebook. 第一节，是基础应用技巧；第二节，帮助提升工作效率。\n",
    "\n",
    "大家现在看到的就是一个notebook，当前文字所在方框，被称为`Cell` 。`Cell`有两类，一类叫`markdown cell` 用作文本记录；另一类叫`code cell`，用来写代码。\n",
    "\n",
    "这样的文本+代码模式非常适合做实验研究。文字帮助解读，代码生成并展示结果。fast.ai课程全部通过notebook形式运行，方便大家学习和实验。\n",
    "\n",
    "知名学界产业界机构，如Google, Microsoft, IBM, Bloomberg, Berkeley 以及 NASA 等等，都采用Jupyter Notebook。甚至诺奖经济得主也采用[notebook](https://paulromer.net/jupyter-mathematica-and-the-future-of-the-research-paper/)来做实验，还有人提出将来notebook将成为[论文学术报告的载体](https://www.theatlantic.com/science/archive/2018/04/the-scientific-paper-is-obsolete/556676/)。\n",
    "\n",
    "[返回](#0)"
   ]
  },
  {
   "cell_type": "markdown",
   "metadata": {},
   "source": [
    "---"
   ]
  },
  {
   "cell_type": "markdown",
   "metadata": {},
   "source": [
    "# <span id=\"2\"></span> 最常用技能\n",
    "\n",
    "光标闪动，意味着你处于当前单元格（Cell）     \n",
    "`esc` + `m`= 切入文本编辑模式    \n",
    "`shift + enter` = 运行本Cell（单元格）"
   ]
  },
  {
   "cell_type": "code",
   "execution_count": 2,
   "metadata": {},
   "outputs": [
    {
     "data": {
      "text/plain": [
       "'\\n`esc` + `y` = 切入代码编辑模式    \\n`shift + enter` = 运行本Cell（单元格）\\n'"
      ]
     },
     "execution_count": 2,
     "metadata": {},
     "output_type": "execute_result"
    }
   ],
   "source": [
    "\"\"\"\n",
    "`esc` + `y` = 切入代码编辑模式    \n",
    "`shift + enter` = 运行本Cell（单元格）\n",
    "\"\"\""
   ]
  },
  {
   "cell_type": "code",
   "execution_count": 3,
   "metadata": {},
   "outputs": [],
   "source": [
    "# 用 `Ctrl` + `/` = 将代码变成非执行内容\n",
    "# 重复 `Ctrl` + `/` = 将代码变成可执行内容"
   ]
  },
  {
   "cell_type": "markdown",
   "metadata": {},
   "source": [
    "`esc` + `o` = 收起当前单元格的输出黑体展示区域"
   ]
  },
  {
   "cell_type": "markdown",
   "metadata": {},
   "source": [
    "`esc` + `c` = 复制当前单元格     \n",
    "`esc` + `x` = 剪切当前单元格     \n",
    "`esc` + `v` = 粘贴单元格，到当前单元格下面     \n",
    "`esc` + `a` = 新建单元格，到当前单元格上面     \n",
    "`esc` + `b` = 新建单元格，到当前单元格下面     "
   ]
  },
  {
   "cell_type": "markdown",
   "metadata": {},
   "source": [
    "`上箭头` = 移动到上一个单元格     \n",
    "`下箭头` = 移动到下一个单元格"
   ]
  },
  {
   "cell_type": "markdown",
   "metadata": {},
   "source": [
    "`0` + `0` = 重启kernel      \n",
    "`s` = 保存"
   ]
  },
  {
   "cell_type": "markdown",
   "metadata": {},
   "source": [
    "<kbd>Shift</kbd>+<kbd>Arrow up/Arrow down</kbd>: 向上向下，选中多个单元格\n",
    "\n",
    "<kbd>Shift</kbd>+<kbd>M</kbd>: 合并单元格    \n",
    "<kbd>Shift</kbd>+<kbd>control</kbd>+<kbd>-</kbd>: 切分单元格 - 未实现"
   ]
  },
  {
   "cell_type": "markdown",
   "metadata": {},
   "source": [
    "`untar_data()` 光标放在括号内：    \n",
    "<kbd>Shift</kbd>+<kbd>Tab</kbd>: [一次] 展示函数的输入参数基本细节      \n",
    "<kbd>Shift</kbd>+<kbd>Tab</kbd>: [三次] 展示全部细节"
   ]
  },
  {
   "cell_type": "markdown",
   "metadata": {},
   "source": [
    "如何链接其他Notebook以及指定章节？\n",
    "```\n",
    "[other notes](other_notebooks.ipynb)\n",
    "[a specific chapter](lesson1-pets-Copy2.ipynb#Unfreezing,-fine-tuning,-and-learning-rates)\n",
    "```"
   ]
  },
  {
   "cell_type": "markdown",
   "metadata": {},
   "source": [
    "how to run codes line by line\n",
    "```python\n",
    "from IPython.core.interactiveshell import InteractiveShell\n",
    "InteractiveShell.ast_node_interactivity = \"all\"\n",
    "1. ```"
   ]
  },
  {
   "cell_type": "markdown",
   "metadata": {},
   "source": [
    "**粗体**    \n",
    "*斜体*     \n",
    "`文本中写代码`     \n",
    "[链接](https://forums.fast.ai/t/fast-ai-v3-2019/39325?u=daniel)     "
   ]
  },
  {
   "cell_type": "markdown",
   "metadata": {},
   "source": [
    "# 第一标题\n",
    "## 第二标题\n",
    "### 第三\n",
    "\n",
    "* 无序列表\n",
    "* 无序列表\n",
    "* 无序列表\n",
    "\n",
    "\n",
    "1. 有序\n",
    "1. 有序\n",
    "    1. 有\n",
    "1. 有序\n",
    "    1. you\n",
    "    \n",
    "> 引用"
   ]
  },
  {
   "cell_type": "markdown",
   "metadata": {},
   "source": [
    "任务列表\n",
    "\n",
    "- [x] Learn Jupyter Notebooks\n",
    "    - [x] Writing\n",
    "    - [x] Modes\n",
    "    - [x] Other Considerations\n",
    "- [ ] Change the world"
   ]
  },
  {
   "cell_type": "markdown",
   "metadata": {},
   "source": [
    "[返回](#0)"
   ]
  },
  {
   "cell_type": "markdown",
   "metadata": {},
   "source": [
    "# <span id=\"3\"></span> 探秘函数"
   ]
  },
  {
   "cell_type": "code",
   "execution_count": 4,
   "metadata": {},
   "outputs": [],
   "source": [
    "# 引入库\n",
    "from fastai.vision import *"
   ]
  },
  {
   "cell_type": "markdown",
   "metadata": {},
   "source": [
    "?function-name: 显示函数基本信息"
   ]
  },
  {
   "cell_type": "code",
   "execution_count": 5,
   "metadata": {},
   "outputs": [],
   "source": [
    "?ImageDataBunch"
   ]
  },
  {
   "cell_type": "markdown",
   "metadata": {},
   "source": [
    "`??function-name`: 显示函数源代码"
   ]
  },
  {
   "cell_type": "code",
   "execution_count": 6,
   "metadata": {},
   "outputs": [],
   "source": [
    "??ImageDataBunch"
   ]
  },
  {
   "cell_type": "markdown",
   "metadata": {},
   "source": [
    "`doc(function-name)`: 展示函数文档及链接"
   ]
  },
  {
   "cell_type": "code",
   "execution_count": 7,
   "metadata": {},
   "outputs": [],
   "source": [
    "doc(ImageDataBunch)"
   ]
  },
  {
   "cell_type": "markdown",
   "metadata": {},
   "source": [
    "[返回](#0)"
   ]
  },
  {
   "cell_type": "markdown",
   "metadata": {},
   "source": [
    "# <span id=\"4\"></span> 三行代码"
   ]
  },
  {
   "cell_type": "markdown",
   "metadata": {},
   "source": [
    "以下三行代码适用于所有的Jupyter notebook"
   ]
  },
  {
   "cell_type": "code",
   "execution_count": 8,
   "metadata": {},
   "outputs": [],
   "source": [
    "%matplotlib inline\n",
    "%reload_ext autoreload\n",
    "%autoreload 2"
   ]
  },
  {
   "cell_type": "markdown",
   "metadata": {},
   "source": [
    "`%`, magics, 可以理解为Jupyter Notebook自己特制函数"
   ]
  },
  {
   "cell_type": "markdown",
   "metadata": {},
   "source": [
    "`%matplotlib inline`: 将作图显示附着在单元格上"
   ]
  },
  {
   "cell_type": "code",
   "execution_count": 9,
   "metadata": {},
   "outputs": [
    {
     "data": {
      "image/png": "[encoded data removed]",
      "text/plain": [
       "<Figure size 432x288 with 1 Axes>"
      ]
     },
     "metadata": {
      "needs_background": "light"
     },
     "output_type": "display_data"
    }
   ],
   "source": [
    "a = 1\n",
    "b = a + 1\n",
    "c = b + a + 1\n",
    "d = c + b + a + 1\n",
    "a, b, c ,d\n",
    "\n",
    "plt.plot([a,b,c,d])\n",
    "plt.show()"
   ]
  },
  {
   "cell_type": "markdown",
   "metadata": {},
   "source": [
    "`%reload_ext autoreload`    \n",
    "`%autoreload 2`\n",
    "\n",
    "当库发生修改时，自动更新"
   ]
  },
  {
   "cell_type": "markdown",
   "metadata": {},
   "source": [
    "[返回](#0)"
   ]
  },
  {
   "cell_type": "markdown",
   "metadata": {},
   "source": [
    "# <span id='nbcp'></span> 如何在Nb之间粘贴复制"
   ]
  },
  {
   "cell_type": "markdown",
   "metadata": {},
   "source": [
    "`Ctrl + c` = 在一个Nb中复制     \n",
    "`Ctrl + v` = 在另一个Nb中粘贴即可"
   ]
  },
  {
   "cell_type": "markdown",
   "metadata": {},
   "source": [
    "[返回](#0)"
   ]
  },
  {
   "cell_type": "markdown",
   "metadata": {},
   "source": [
    "# <span id=\"5\"></span> 如何给代码计时"
   ]
  },
  {
   "cell_type": "markdown",
   "metadata": {},
   "source": [
    "`%timeit`: 为代码计时"
   ]
  },
  {
   "cell_type": "code",
   "execution_count": 10,
   "metadata": {},
   "outputs": [
    {
     "name": "stdout",
     "output_type": "stream",
     "text": [
      "43.4 µs ± 540 ns per loop (mean ± std. dev. of 7 runs, 10000 loops each)\n"
     ]
    }
   ],
   "source": [
    "%timeit [i+1 for i in range(1000)]"
   ]
  },
  {
   "cell_type": "markdown",
   "metadata": {},
   "source": [
    "[返回](#0)"
   ]
  },
  {
   "cell_type": "markdown",
   "metadata": {},
   "source": [
    "# <span id=\"6\"></span> 如何给代码找错"
   ]
  },
  {
   "cell_type": "markdown",
   "metadata": {},
   "source": [
    "`%debug`: 给代码找错 [Python debugger](https://docs.python.org/3/library/pdb.html)."
   ]
  },
  {
   "cell_type": "markdown",
   "metadata": {},
   "source": [
    "```python\n",
    "for i in range(1000):\n",
    "    a = i+100\n",
    "    b = 'string'\n",
    "    c = b+1\n",
    "```"
   ]
  },
  {
   "cell_type": "markdown",
   "metadata": {},
   "source": [
    "`%debug`"
   ]
  },
  {
   "cell_type": "markdown",
   "metadata": {},
   "source": [
    "如何快捷debug\n",
    "```py\n",
    "sticky # 看到全局代码\n",
    "ll # 从debug跳回到全局代码\n",
    "# l 20\n",
    "# l 1, 20: see line from 1 to 20\n",
    "s # step into a function\n",
    "n # 运行下一行\n",
    "w # call stack, where I started and where I am in source code, d go down a stack, u to go up a stack\n",
    "b 88 # 运行到88行，暂停\n",
    "# b file.py:41 or b func_name\n",
    "# b 11, this_year==2017: conditional breakpoint, at line 11 to breakpoint, if this_year == 2017\n",
    "cl 1 # 删除第一个breakpoint\n",
    "r # 运行所在 function\n",
    "c # 运行直到结束\n",
    "q # 终止\n",
    "? # 查看文档\n",
    "\n",
    "##### .pdbrc\n",
    "alias dr pp dir(%1) # 查看everything underneath the object\n",
    "alias dt pp %1.__dict__ # 查看object's dictionaries\n",
    "alias pdt for k, v in %1.items(): print(k, \": \", v) # 查看一个纯 python dictionary\n",
    "alias loc locals().keys() # local variables\n",
    "alias doc from inspect import getdoc; from pprint import pprint; pprint(getdoc(%1)) # documents\n",
    "alias sources from inspect import getsourcelines; from pprint import pprint; pprint(getsourcelines(%1)) # source code\n",
    "alias module from inspect import getmodule; from pprint import pprint; pprint(getmodule(%1)) # module name\n",
    "alias fullargs from inspect import getfullargspec; from pprint import pprint; pprint(getfullargspec(%1)) # all arguments names\n",
    "alias opt_param optimizer.param_groups[0]['params'][%1] # all parameters\n",
    "alias opt_grad optimizer.param_groups[0]['params'][%1].grad # all gradients of parameters\n",
    "```"
   ]
  },
  {
   "cell_type": "code",
   "execution_count": null,
   "metadata": {},
   "outputs": [],
   "source": []
  },
  {
   "cell_type": "code",
   "execution_count": null,
   "metadata": {},
   "outputs": [],
   "source": []
  }
 ],
 "metadata": {
  "kernelspec": {
   "display_name": "Python 3",
   "language": "python",
   "name": "python3"
  },
  "language_info": {
   "codemirror_mode": {
    "name": "ipython",
    "version": 3
   },
   "file_extension": ".py",
   "mimetype": "text/x-python",
   "name": "python",
   "nbconvert_exporter": "python",
   "pygments_lexer": "ipython3",
   "version": "3.6.7"
  }
 },
 "nbformat": 4,
 "nbformat_minor": 2
}
